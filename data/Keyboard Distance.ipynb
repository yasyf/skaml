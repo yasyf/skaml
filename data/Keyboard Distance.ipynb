{
 "cells": [
  {
   "cell_type": "code",
   "execution_count": 27,
   "metadata": {},
   "outputs": [],
   "source": [
    "import matplotlib.pyplot as plt\n",
    "import numpy as np\n",
    "from sorted_timings import SORTED_TIMINGS\n",
    "from keyboard_distance import keyboard_distance"
   ]
  },
  {
   "cell_type": "code",
   "execution_count": 39,
   "metadata": {
    "collapsed": true
   },
   "outputs": [],
   "source": [
    "pairs, delays = zip(*SORTED_TIMINGS)\n",
    "delays = np.array(delays)"
   ]
  },
  {
   "cell_type": "code",
   "execution_count": 41,
   "metadata": {},
   "outputs": [],
   "source": [
    "distances = np.array(map(lambda p: keyboard_distance(*p), pairs))\n",
    "unique_distances = np.unique(distances)\n",
    "mean_line = np.array([delays[distances == x].mean() for x in unique_distances])"
   ]
  },
  {
   "cell_type": "code",
   "execution_count": 54,
   "metadata": {},
   "outputs": [],
   "source": [
    "plt.scatter(distances, delay, marker='o')\n",
    "plt.plot(unique_distances, mean_line, 'r', linewidth=3)\n",
    "plt.axis([-1, 10, 0, 300])\n",
    "plt.xlabel('Euclidian Keyboard Distance')\n",
    "plt.ylabel('Mean Delay (ms)')\n",
    "plt.show()"
   ]
  },
  {
   "cell_type": "code",
   "execution_count": null,
   "metadata": {
    "collapsed": true
   },
   "outputs": [],
   "source": []
  }
 ],
 "metadata": {
  "kernelspec": {
   "display_name": "Python 2",
   "language": "python",
   "name": "python2"
  },
  "language_info": {
   "codemirror_mode": {
    "name": "ipython",
    "version": 2
   },
   "file_extension": ".py",
   "mimetype": "text/x-python",
   "name": "python",
   "nbconvert_exporter": "python",
   "pygments_lexer": "ipython2",
   "version": "2.7.9"
  }
 },
 "nbformat": 4,
 "nbformat_minor": 2
}
